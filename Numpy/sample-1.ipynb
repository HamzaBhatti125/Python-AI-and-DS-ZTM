{
 "cells": [
  {
   "cell_type": "code",
   "execution_count": 12,
   "id": "43b31fa8",
   "metadata": {},
   "outputs": [],
   "source": [
    "import numpy as np\n",
    "import pandas as pd"
   ]
  },
  {
   "cell_type": "markdown",
   "id": "fb385993",
   "metadata": {},
   "source": [
    "## DataTypes & Attributes"
   ]
  },
  {
   "cell_type": "code",
   "execution_count": 13,
   "id": "73872dd5",
   "metadata": {},
   "outputs": [
    {
     "data": {
      "text/plain": [
       "numpy.ndarray"
      ]
     },
     "execution_count": 13,
     "metadata": {},
     "output_type": "execute_result"
    }
   ],
   "source": [
    "#Numpy's main datatype is ndarray\n",
    "a1 = np.array([1,2,3])\n",
    "type(a1)"
   ]
  },
  {
   "cell_type": "code",
   "execution_count": 14,
   "id": "8efd5056",
   "metadata": {},
   "outputs": [],
   "source": [
    "a2 = np.array([[1,2.3,3.2],\n",
    "                 [4,5,6]])\n",
    "\n",
    "a3 = np.array([[[1,2,3],\n",
    "                 [4,5,6],\n",
    "                 [7,8,9]],\n",
    "                [[10,11,12],\n",
    "                [13,14,15],\n",
    "                [16,17,18]]])\n",
    "\n"
   ]
  },
  {
   "cell_type": "code",
   "execution_count": 15,
   "id": "ed802167",
   "metadata": {},
   "outputs": [
    {
     "data": {
      "text/plain": [
       "array([[[ 1,  2,  3],\n",
       "        [ 4,  5,  6],\n",
       "        [ 7,  8,  9]],\n",
       "\n",
       "       [[10, 11, 12],\n",
       "        [13, 14, 15],\n",
       "        [16, 17, 18]]])"
      ]
     },
     "execution_count": 15,
     "metadata": {},
     "output_type": "execute_result"
    }
   ],
   "source": [
    "a3 #3-dimensional shape=(3,3)"
   ]
  },
  {
   "cell_type": "code",
   "execution_count": 16,
   "id": "d901d427",
   "metadata": {},
   "outputs": [
    {
     "data": {
      "text/plain": [
       "(2, 3, 3)"
      ]
     },
     "execution_count": 16,
     "metadata": {},
     "output_type": "execute_result"
    }
   ],
   "source": [
    "a3.shape #axis1 = row, axis2=columns, axis3 = n-dimensions"
   ]
  },
  {
   "cell_type": "code",
   "execution_count": 17,
   "id": "453b131f",
   "metadata": {},
   "outputs": [
    {
     "data": {
      "text/plain": [
       "(1, 2, 3)"
      ]
     },
     "execution_count": 17,
     "metadata": {},
     "output_type": "execute_result"
    }
   ],
   "source": [
    "a1.ndim , a2.ndim ,a3.ndim "
   ]
  },
  {
   "cell_type": "code",
   "execution_count": 19,
   "id": "174f8c0e",
   "metadata": {},
   "outputs": [
    {
     "data": {
      "text/html": [
       "<div>\n",
       "<style scoped>\n",
       "    .dataframe tbody tr th:only-of-type {\n",
       "        vertical-align: middle;\n",
       "    }\n",
       "\n",
       "    .dataframe tbody tr th {\n",
       "        vertical-align: top;\n",
       "    }\n",
       "\n",
       "    .dataframe thead th {\n",
       "        text-align: right;\n",
       "    }\n",
       "</style>\n",
       "<table border=\"1\" class=\"dataframe\">\n",
       "  <thead>\n",
       "    <tr style=\"text-align: right;\">\n",
       "      <th></th>\n",
       "      <th>0</th>\n",
       "      <th>1</th>\n",
       "      <th>2</th>\n",
       "    </tr>\n",
       "  </thead>\n",
       "  <tbody>\n",
       "    <tr>\n",
       "      <th>0</th>\n",
       "      <td>1.0</td>\n",
       "      <td>2.3</td>\n",
       "      <td>3.2</td>\n",
       "    </tr>\n",
       "    <tr>\n",
       "      <th>1</th>\n",
       "      <td>4.0</td>\n",
       "      <td>5.0</td>\n",
       "      <td>6.0</td>\n",
       "    </tr>\n",
       "  </tbody>\n",
       "</table>\n",
       "</div>"
      ],
      "text/plain": [
       "     0    1    2\n",
       "0  1.0  2.3  3.2\n",
       "1  4.0  5.0  6.0"
      ]
     },
     "execution_count": 19,
     "metadata": {},
     "output_type": "execute_result"
    }
   ],
   "source": [
    "#Create a Datafrme from a numpy\n",
    "df = pd.DataFrame(a2)\n",
    "df"
   ]
  },
  {
   "cell_type": "markdown",
   "id": "3c631622",
   "metadata": {},
   "source": [
    "## Creating Arrays\n"
   ]
  },
  {
   "cell_type": "code",
   "execution_count": 21,
   "id": "e37eb18c",
   "metadata": {},
   "outputs": [
    {
     "data": {
      "text/plain": [
       "array([1, 3, 5, 7, 9])"
      ]
     },
     "execution_count": 21,
     "metadata": {},
     "output_type": "execute_result"
    }
   ],
   "source": [
    "array = np.arange(1,10,2)\n",
    "array"
   ]
  },
  {
   "cell_type": "code",
   "execution_count": 25,
   "id": "6fefdc24",
   "metadata": {},
   "outputs": [
    {
     "data": {
      "text/plain": [
       "array([[6, 3, 6, 0, 6],\n",
       "       [6, 5, 6, 5, 1],\n",
       "       [9, 9, 9, 9, 3]])"
      ]
     },
     "execution_count": 25,
     "metadata": {},
     "output_type": "execute_result"
    }
   ],
   "source": [
    "rand = np.random.randint(0,10, size=(3,5))\n",
    "rand"
   ]
  },
  {
   "cell_type": "code",
   "execution_count": 26,
   "id": "bb3a8b04",
   "metadata": {},
   "outputs": [
    {
     "data": {
      "text/plain": [
       "15"
      ]
     },
     "execution_count": 26,
     "metadata": {},
     "output_type": "execute_result"
    }
   ],
   "source": [
    "rand.size"
   ]
  },
  {
   "cell_type": "code",
   "execution_count": 27,
   "id": "3ecf8bd9",
   "metadata": {},
   "outputs": [
    {
     "data": {
      "text/plain": [
       "(3, 5)"
      ]
     },
     "execution_count": 27,
     "metadata": {},
     "output_type": "execute_result"
    }
   ],
   "source": [
    "rand.shape"
   ]
  },
  {
   "cell_type": "code",
   "execution_count": 30,
   "id": "c1f5d248",
   "metadata": {},
   "outputs": [
    {
     "data": {
      "text/plain": [
       "array([[[0.84800806, 0.68465475],\n",
       "        [0.65738305, 0.42920319],\n",
       "        [0.5508889 , 0.77541964]],\n",
       "\n",
       "       [[0.38760559, 0.87690851],\n",
       "        [0.63042746, 0.2331202 ],\n",
       "        [0.82650016, 0.52057118]],\n",
       "\n",
       "       [[0.97947693, 0.46656394],\n",
       "        [0.63656738, 0.90263652],\n",
       "        [0.86171848, 0.30093323]],\n",
       "\n",
       "       [[0.0408388 , 0.86790912],\n",
       "        [0.41016407, 0.19431707],\n",
       "        [0.72940272, 0.78588411]],\n",
       "\n",
       "       [[0.31871637, 0.52399271],\n",
       "        [0.21923722, 0.23208012],\n",
       "        [0.71418138, 0.57982066]]])"
      ]
     },
     "execution_count": 30,
     "metadata": {},
     "output_type": "execute_result"
    }
   ],
   "source": [
    "arr2 = np.random.random((5,3,2))\n",
    "arr2"
   ]
  },
  {
   "cell_type": "code",
   "execution_count": 33,
   "id": "5294c803",
   "metadata": {},
   "outputs": [
    {
     "data": {
      "text/plain": [
       "array([[5, 0, 3],\n",
       "       [3, 7, 9],\n",
       "       [3, 5, 2],\n",
       "       [4, 7, 6],\n",
       "       [8, 8, 1]])"
      ]
     },
     "execution_count": 33,
     "metadata": {},
     "output_type": "execute_result"
    }
   ],
   "source": [
    "#Pseudo-random numbers\n",
    "np.random.seed(seed=0) #seed fixed the random numbers\n",
    "rand_arr_1 = np.random.randint(10,size=(5,3))\n",
    "rand_arr_1"
   ]
  },
  {
   "cell_type": "code",
   "execution_count": 39,
   "id": "cc91f63c",
   "metadata": {},
   "outputs": [
    {
     "data": {
      "text/plain": [
       "array([[0.22199317, 0.87073231, 0.20671916],\n",
       "       [0.91861091, 0.48841119, 0.61174386],\n",
       "       [0.76590786, 0.51841799, 0.2968005 ],\n",
       "       [0.18772123, 0.08074127, 0.7384403 ],\n",
       "       [0.44130922, 0.15830987, 0.87993703]])"
      ]
     },
     "execution_count": 39,
     "metadata": {},
     "output_type": "execute_result"
    }
   ],
   "source": [
    "np.random.seed(5)\n",
    "rand_arr_2 = np.random.random((5,3))\n",
    "rand_arr_2"
   ]
  },
  {
   "cell_type": "code",
   "execution_count": 40,
   "id": "564c2335",
   "metadata": {},
   "outputs": [
    {
     "data": {
      "text/plain": [
       "array([[[ 1,  2],\n",
       "        [ 4,  5]],\n",
       "\n",
       "       [[10, 11],\n",
       "        [13, 14]]])"
      ]
     },
     "execution_count": 40,
     "metadata": {},
     "output_type": "execute_result"
    }
   ],
   "source": [
    "a3[:2,:2,:2]"
   ]
  },
  {
   "cell_type": "code",
   "execution_count": 41,
   "id": "ae26d311",
   "metadata": {},
   "outputs": [
    {
     "data": {
      "text/plain": [
       "array([[[[4, 6, 2, 9, 9],\n",
       "         [9, 9, 1, 2, 7],\n",
       "         [0, 5, 0, 0, 4],\n",
       "         [4, 9, 3, 2, 4]],\n",
       "\n",
       "        [[6, 9, 3, 3, 2],\n",
       "         [1, 5, 7, 4, 3],\n",
       "         [1, 7, 3, 1, 9],\n",
       "         [5, 7, 0, 9, 6]],\n",
       "\n",
       "        [[0, 5, 2, 8, 6],\n",
       "         [8, 0, 5, 2, 0],\n",
       "         [7, 7, 6, 0, 0],\n",
       "         [8, 5, 5, 9, 6]]],\n",
       "\n",
       "\n",
       "       [[[4, 5, 2, 8, 8],\n",
       "         [1, 6, 3, 4, 1],\n",
       "         [8, 0, 2, 2, 4],\n",
       "         [1, 6, 3, 4, 3]],\n",
       "\n",
       "        [[1, 4, 2, 3, 4],\n",
       "         [9, 4, 0, 6, 6],\n",
       "         [9, 2, 9, 3, 0],\n",
       "         [8, 8, 9, 7, 4]],\n",
       "\n",
       "        [[8, 6, 8, 0, 5],\n",
       "         [3, 4, 0, 2, 2],\n",
       "         [1, 1, 7, 1, 7],\n",
       "         [2, 6, 3, 6, 8]]]])"
      ]
     },
     "execution_count": 41,
     "metadata": {},
     "output_type": "execute_result"
    }
   ],
   "source": [
    "a4 = np.random.randint(10, size=(2,3,4,5))\n",
    "a4"
   ]
  },
  {
   "cell_type": "code",
   "execution_count": 42,
   "id": "5f5dfd49",
   "metadata": {},
   "outputs": [
    {
     "data": {
      "text/plain": [
       "((2, 3, 4, 5), 4)"
      ]
     },
     "execution_count": 42,
     "metadata": {},
     "output_type": "execute_result"
    }
   ],
   "source": [
    "a4.shape, a4.ndim"
   ]
  },
  {
   "cell_type": "code",
   "execution_count": 44,
   "id": "d99c681f",
   "metadata": {},
   "outputs": [
    {
     "data": {
      "text/plain": [
       "array([[[[4, 6, 2, 9],\n",
       "         [9, 9, 1, 2],\n",
       "         [0, 5, 0, 0],\n",
       "         [4, 9, 3, 2]],\n",
       "\n",
       "        [[6, 9, 3, 3],\n",
       "         [1, 5, 7, 4],\n",
       "         [1, 7, 3, 1],\n",
       "         [5, 7, 0, 9]],\n",
       "\n",
       "        [[0, 5, 2, 8],\n",
       "         [8, 0, 5, 2],\n",
       "         [7, 7, 6, 0],\n",
       "         [8, 5, 5, 9]]],\n",
       "\n",
       "\n",
       "       [[[4, 5, 2, 8],\n",
       "         [1, 6, 3, 4],\n",
       "         [8, 0, 2, 2],\n",
       "         [1, 6, 3, 4]],\n",
       "\n",
       "        [[1, 4, 2, 3],\n",
       "         [9, 4, 0, 6],\n",
       "         [9, 2, 9, 3],\n",
       "         [8, 8, 9, 7]],\n",
       "\n",
       "        [[8, 6, 8, 0],\n",
       "         [3, 4, 0, 2],\n",
       "         [1, 1, 7, 1],\n",
       "         [2, 6, 3, 6]]]])"
      ]
     },
     "execution_count": 44,
     "metadata": {},
     "output_type": "execute_result"
    }
   ],
   "source": [
    "#Get the first 4 numbers of inner most array\n",
    "a4[:,:,:,:4]"
   ]
  },
  {
   "cell_type": "code",
   "execution_count": 45,
   "id": "dbcc3c00",
   "metadata": {},
   "outputs": [
    {
     "data": {
      "text/plain": [
       "array([[[[4, 6],\n",
       "         [9, 9],\n",
       "         [0, 5],\n",
       "         [4, 9]],\n",
       "\n",
       "        [[6, 9],\n",
       "         [1, 5],\n",
       "         [1, 7],\n",
       "         [5, 7]],\n",
       "\n",
       "        [[0, 5],\n",
       "         [8, 0],\n",
       "         [7, 7],\n",
       "         [8, 5]]],\n",
       "\n",
       "\n",
       "       [[[4, 5],\n",
       "         [1, 6],\n",
       "         [8, 0],\n",
       "         [1, 6]],\n",
       "\n",
       "        [[1, 4],\n",
       "         [9, 4],\n",
       "         [9, 2],\n",
       "         [8, 8]],\n",
       "\n",
       "        [[8, 6],\n",
       "         [3, 4],\n",
       "         [1, 1],\n",
       "         [2, 6]]]])"
      ]
     },
     "execution_count": 45,
     "metadata": {},
     "output_type": "execute_result"
    }
   ],
   "source": [
    "a4[:,:,:,:2]"
   ]
  },
  {
   "cell_type": "code",
   "execution_count": null,
   "id": "a9973c89",
   "metadata": {},
   "outputs": [],
   "source": []
  }
 ],
 "metadata": {
  "kernelspec": {
   "display_name": "Python 3",
   "language": "python",
   "name": "python3"
  },
  "language_info": {
   "codemirror_mode": {
    "name": "ipython",
    "version": 3
   },
   "file_extension": ".py",
   "mimetype": "text/x-python",
   "name": "python",
   "nbconvert_exporter": "python",
   "pygments_lexer": "ipython3",
   "version": "3.8.8"
  }
 },
 "nbformat": 4,
 "nbformat_minor": 5
}
